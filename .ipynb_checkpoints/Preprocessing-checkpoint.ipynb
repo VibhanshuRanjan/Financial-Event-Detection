{
 "cells": [
  {
   "cell_type": "code",
   "execution_count": 1,
   "id": "2ca2d0e8",
   "metadata": {},
   "outputs": [],
   "source": [
    "import os\n",
    "directory = 'bratannotationfiles'\n",
    "t = 0\n",
    "loc1=\"\"\n",
    "loc2=\"\"\n",
    "with open(\"tuple.txt\",\"w\") as fil1:\n",
    "    with open(\"sent.txt\",\"w\") as fil2:\n",
    "            for filename in os.listdir(directory): # looping through each \n",
    "                if t==0:\n",
    "                    loc1 = os.path.join(directory, filename)\n",
    "                    t = 1\n",
    "                else:\n",
    "                    t = 0\n",
    "                    loc2 = os.path.join(directory, filename)\n",
    "\n",
    "                    with open(loc1) as f:\n",
    "                        lines1 = f.readlines()\n",
    "\n",
    "                    with open(loc2) as f:\n",
    "                        lines2 = f.readlines()\n",
    "\n",
    "                    with open(loc2) as f:\n",
    "                        lines21 = f.read()\n",
    "\n",
    "                    d1 = {} #tag relation\n",
    "                    d2 = {} #company corresponding to that tag\n",
    "                    d3 = {} #dictionary with key as span\n",
    "\n",
    "                    for i in lines1:\n",
    "\n",
    "                        s = i.split('\\t')\n",
    "                        s2=s[1].split(' ')\n",
    "\n",
    "                        if i[0]=='R':\n",
    "\n",
    "                            s3 = s2[1].split(':')[1]\n",
    "                            s4 = s2[2].split(':')[1]\n",
    "\n",
    "                            s3=s3.strip()\n",
    "                            s4 = s4.strip()\n",
    "                            if s3 in d1.keys():\n",
    "                                 d1[s3].append(s4)\n",
    "                            else:\n",
    "                                d1[s3]=[s4]\n",
    "\n",
    "                        if s2[0]=='Company':\n",
    "                            d2[s[0]]=s[2].strip()\n",
    "\n",
    "\n",
    "                    for i in lines1:\n",
    "                        if i[0]=='T':\n",
    "                            s = i.split('\\t')\n",
    "                            s2 = s[1].split(' ')\n",
    "                            #s3 = s[2].strip()\n",
    "                            s3=s2[1]+','+s2[2]\n",
    "                            s4 = s2[0].strip()\n",
    "                            s3 = s3+','+s4 #s4 has event type\n",
    "                            if s2[0]!='Company':\n",
    "                                if s3 in d3.keys():\n",
    "                                    print(s3)\n",
    "                                    print(loc1)\n",
    "                                    #print(200)\n",
    "                                    if s[0] in d1.keys():\n",
    "                                        d3[s3].append(d1[s[0]])\n",
    "                                    else:\n",
    "                                        d3[s3].append(['UNK'])\n",
    "                                else:\n",
    "                                    #print(200)\n",
    "                                    #d3[s3]=[]\n",
    "                                    if s[0] in d1.keys():\n",
    "                                        d3[s3]=d1[s[0]]\n",
    "                                    else:\n",
    "                                        d3[s3]=['UNK']\n",
    "\n",
    "\n",
    "                    with open(\"tuplet.txt\",\"w\") as f1:\n",
    "                        with open(\"sentt.txt\",\"w\") as f2:\n",
    "                            s = 0\n",
    "                            e = 0\n",
    "                            for i in lines2:\n",
    "                                e = s+len(i)-1\n",
    "\n",
    "                                t1 = 0\n",
    "                                l=[]\n",
    "                                for key,val in d3.items():\n",
    "                                    s1 = key.split(',')\n",
    "\n",
    "                                    #print(s1)\n",
    "                                    id1 = int(s1[0])\n",
    "\n",
    "                                    id2 = int(s1[1])-1\n",
    "\n",
    "                                    #print(s,e,id1,id2,\"\\n\")#checking indexing\n",
    "                                    if id1>=s and id2<=e:\n",
    "                                    #if key in i:\n",
    "                                        if t1==0:\n",
    "                                            t1=1\n",
    "                                        else:\n",
    "                                            l.append('|')\n",
    "\n",
    "                                        l.append(s1[2]+';')\n",
    "                                        #evnt = key.split()\n",
    "                                        l.append(lines21[id1:id2+1]+';')\n",
    "            #                             l.append(key+';')\n",
    "                                        l1=val\n",
    "                                        #print(l1)\n",
    "                                        for j in l1:\n",
    "                                            if j=='UNK':\n",
    "                                                l.append(j)\n",
    "                                            else:\n",
    "                                                l.append(d2[j])\n",
    "\n",
    "                                            l.append(',')\n",
    "                                            break #taking one company\n",
    "                                        l.pop(-1)\n",
    "                                if t1==1:\n",
    "\n",
    "                                    f1.writelines(l)\n",
    "                                    f1.write('\\n')\n",
    "                                    f2.writelines(i)\n",
    "                                s = e+1\n",
    "\n",
    "                    with open(\"tuplet.txt\",\"r\") as f1:\n",
    "                        with open(\"sentt.txt\",\"r\") as f2:\n",
    "\n",
    "                            fil1.write(f1.read())\n",
    "                            fil2.write(f2.read())\n",
    "\n",
    "                    \n",
    "\n",
    "\n"
   ]
  },
  {
   "cell_type": "code",
   "execution_count": 6,
   "id": "f4a23916",
   "metadata": {},
   "outputs": [
    {
     "data": {
      "text/plain": [
       "'bratannotationfiles\\\\winning_ways_at_tesco_16-04-2008.ann'"
      ]
     },
     "execution_count": 6,
     "metadata": {},
     "output_type": "execute_result"
    }
   ],
   "source": [
    "loc1"
   ]
  },
  {
   "cell_type": "code",
   "execution_count": 3,
   "id": "549f9d33",
   "metadata": {},
   "outputs": [
    {
     "data": {
      "text/plain": [
       "str"
      ]
     },
     "execution_count": 3,
     "metadata": {},
     "output_type": "execute_result"
    }
   ],
   "source": [
    "type(loc1)"
   ]
  },
  {
   "cell_type": "code",
   "execution_count": 48,
   "id": "8407adaf",
   "metadata": {},
   "outputs": [
    {
     "name": "stdout",
     "output_type": "stream",
     "text": [
      "Winning ways at Tesco\n",
      "Bookies sometimes offer odds for those who want to \" bet without the favourite \" - a wager on who will come second to an obvious winner .\n",
      "A gamble on Tesco 's rivals , judging from yesterday 's figures on current trading , is even less certain .\n",
      "Not only is Tesco ahead , its tactics are probably biting into the market share of the other runners .\n",
      "In the first five weeks of its financial year ( since February 23 ) , like-for-like sales grew at 4 per cent .\n",
      "The latest British Retail Consortium figures indicate overall retail sales fell 1.6 per cent in March , with sales of food ( Tesco 's strongpoint ) slowing .\n",
      "Even if Tesco 's non-food offering comes under pressure , it has greater flexibility than specialist retailers to tailor its range , and more firepower than other supermarkets to adjust its food promotions to demand .\n",
      "The shares trade at a multiple of 15 times 2008-09 forecast earnings .\n",
      "That 's an attractive price for the favourite .\n",
      "andrew.hill@ft.com To comment , visit www.ft.com / lombard\n",
      "\n"
     ]
    }
   ],
   "source": [
    "print(lines21)"
   ]
  },
  {
   "cell_type": "code",
   "execution_count": 51,
   "id": "f2f97318",
   "metadata": {},
   "outputs": [
    {
     "data": {
      "text/plain": [
       "'Winning ways at Tesco\\nBookies sometimes offer odds for those who want to \" bet without the favourite \" - a wager on who will come second to an obvious winner .\\nA gamble on Tesco \\'s rivals , judging from yesterday \\'s figures on current trading , is even less certain .\\nNot only is Tesco ahead , its tactics are probably biting into the market share of the other runners .\\nIn the first five weeks of its financial year ( since February 23 ) , like-for-like sales grew at 4 per cent .\\nThe latest British Retail Consortium figures indicate overall retail sales fell 1.6 per cent in March , with sales of food ( Tesco \\'s strongpoint ) slowing .\\nEven if Tesco \\'s non-food offering comes under pressure , it has greater flexibility than specialist retailers to tailor its range , and more firepower than other supermarkets to adjust its food promotions to demand .\\nThe shares trade at a multiple of 15 times 2008-09 forecast earnings .\\nThat \\'s an attractive price for the favourite .\\nandrew.hill@ft.com To comment , visit www.ft.com / lombard\\n'"
      ]
     },
     "execution_count": 51,
     "metadata": {},
     "output_type": "execute_result"
    }
   ],
   "source": [
    "lines21"
   ]
  },
  {
   "cell_type": "code",
   "execution_count": 53,
   "id": "1562b4f9",
   "metadata": {},
   "outputs": [
    {
     "data": {
      "text/plain": [
       "22"
      ]
     },
     "execution_count": 53,
     "metadata": {},
     "output_type": "execute_result"
    }
   ],
   "source": [
    "len(lines2[0])"
   ]
  },
  {
   "cell_type": "code",
   "execution_count": 18,
   "id": "9afb4e3e",
   "metadata": {},
   "outputs": [
    {
     "data": {
      "text/plain": [
       "'t'"
      ]
     },
     "execution_count": 18,
     "metadata": {},
     "output_type": "execute_result"
    }
   ],
   "source": [
    "lines21[478]"
   ]
  },
  {
   "cell_type": "code",
   "execution_count": 20,
   "id": "fd92e017",
   "metadata": {},
   "outputs": [
    {
     "data": {
      "text/plain": [
       "'like-for-like sales grew at 4 per cent'"
      ]
     },
     "execution_count": 20,
     "metadata": {},
     "output_type": "execute_result"
    }
   ],
   "source": [
    "lines21[441:479]"
   ]
  },
  {
   "cell_type": "code",
   "execution_count": 25,
   "id": "8d242b98",
   "metadata": {},
   "outputs": [],
   "source": [
    "a=len(lines2[0])"
   ]
  },
  {
   "cell_type": "code",
   "execution_count": 26,
   "id": "53e91800",
   "metadata": {},
   "outputs": [
    {
     "name": "stdout",
     "output_type": "stream",
     "text": [
      "160\n"
     ]
    }
   ],
   "source": [
    "a=a+len(lines2[1])\n",
    "print(a)"
   ]
  },
  {
   "cell_type": "code",
   "execution_count": 30,
   "id": "d6d2ba84",
   "metadata": {},
   "outputs": [
    {
     "name": "stdout",
     "output_type": "stream",
     "text": [
      "dict_keys(['T1', 'T3'])\n"
     ]
    }
   ],
   "source": [
    "print(d1.keys())"
   ]
  },
  {
   "cell_type": "code",
   "execution_count": 28,
   "id": "03b9a392",
   "metadata": {},
   "outputs": [
    {
     "data": {
      "text/plain": [
       "{'T2': 'Tesco', 'T4': 'Tesco'}"
      ]
     },
     "execution_count": 28,
     "metadata": {},
     "output_type": "execute_result"
    }
   ],
   "source": [
    "d2"
   ]
  },
  {
   "cell_type": "code",
   "execution_count": 46,
   "id": "c254458d",
   "metadata": {},
   "outputs": [
    {
     "data": {
      "text/plain": [
       "{'441,479': ['SalesVolume', ['T2']], '536,583': ['SalesVolume', ['T4']]}"
      ]
     },
     "execution_count": 46,
     "metadata": {},
     "output_type": "execute_result"
    }
   ],
   "source": [
    "d3"
   ]
  },
  {
   "cell_type": "code",
   "execution_count": 31,
   "id": "4df73130",
   "metadata": {},
   "outputs": [
    {
     "data": {
      "text/plain": [
       "{'T1': ['T2'], 'T3': ['T4']}"
      ]
     },
     "execution_count": 31,
     "metadata": {},
     "output_type": "execute_result"
    }
   ],
   "source": [
    "d1"
   ]
  },
  {
   "cell_type": "code",
   "execution_count": 55,
   "id": "0c5c9722",
   "metadata": {},
   "outputs": [
    {
     "data": {
      "text/plain": [
       "3"
      ]
     },
     "execution_count": 55,
     "metadata": {},
     "output_type": "execute_result"
    }
   ],
   "source": []
  },
  {
   "cell_type": "code",
   "execution_count": 62,
   "id": "df8719c3",
   "metadata": {},
   "outputs": [
    {
     "data": {
      "text/plain": [
       "{'T1': ['T2'], 'T4': ['T5'], 'T6': ['T7'], 'T8': ['T9', 'T10']}"
      ]
     },
     "execution_count": 62,
     "metadata": {},
     "output_type": "execute_result"
    }
   ],
   "source": [
    "d1\n"
   ]
  },
  {
   "cell_type": "code",
   "execution_count": 63,
   "id": "ea2bbf22",
   "metadata": {},
   "outputs": [
    {
     "data": {
      "text/plain": [
       "{'T2': 'Unilever',\n",
       " 'T5': 'EasyJet',\n",
       " 'T7': 'Aviva',\n",
       " 'T9': 'Coca-Cola HBC',\n",
       " 'T10': 'SABMiller'}"
      ]
     },
     "execution_count": 63,
     "metadata": {},
     "output_type": "execute_result"
    }
   ],
   "source": [
    "d2\n"
   ]
  },
  {
   "cell_type": "code",
   "execution_count": 64,
   "id": "8f91f658",
   "metadata": {},
   "outputs": [
    {
     "data": {
      "text/plain": [
       "{'107,121,Profit': [['T2']],\n",
       " '2329,2343,BuyRating': [['UNK']],\n",
       " '2311,2320,BuyRating': [['T5']],\n",
       " '2591,2624,BuyRating': [['T7']],\n",
       " '1370,1422,Profit': [['T9', 'T10']]}"
      ]
     },
     "execution_count": 64,
     "metadata": {},
     "output_type": "execute_result"
    }
   ],
   "source": [
    "d3"
   ]
  },
  {
   "cell_type": "code",
   "execution_count": 71,
   "id": "d58a66fa",
   "metadata": {},
   "outputs": [
    {
     "data": {
      "text/plain": [
       "4"
      ]
     },
     "execution_count": 71,
     "metadata": {},
     "output_type": "execute_result"
    }
   ],
   "source": [
    "st = \"abc\\n\"\n",
    "len(st)"
   ]
  },
  {
   "cell_type": "code",
   "execution_count": 76,
   "id": "2c2a4a69",
   "metadata": {},
   "outputs": [
    {
     "data": {
      "text/plain": [
       "['Winning ways at Tesco\\n',\n",
       " 'Bookies sometimes offer odds for those who want to \" bet without the favourite \" - a wager on who will come second to an obvious winner .\\n',\n",
       " \"A gamble on Tesco 's rivals , judging from yesterday 's figures on current trading , is even less certain .\\n\",\n",
       " 'Not only is Tesco ahead , its tactics are probably biting into the market share of the other runners .\\n',\n",
       " 'In the first five weeks of its financial year ( since February 23 ) , like-for-like sales grew at 4 per cent .\\n',\n",
       " \"The latest British Retail Consortium figures indicate overall retail sales fell 1.6 per cent in March , with sales of food ( Tesco 's strongpoint ) slowing .\\n\",\n",
       " \"Even if Tesco 's non-food offering comes under pressure , it has greater flexibility than specialist retailers to tailor its range , and more firepower than other supermarkets to adjust its food promotions to demand .\\n\",\n",
       " 'The shares trade at a multiple of 15 times 2008-09 forecast earnings .\\n',\n",
       " \"That 's an attractive price for the favourite .\\n\",\n",
       " 'andrew.hill@ft.com To comment , visit www.ft.com / lombard\\n']"
      ]
     },
     "execution_count": 76,
     "metadata": {},
     "output_type": "execute_result"
    }
   ],
   "source": [
    "lines2"
   ]
  },
  {
   "cell_type": "code",
   "execution_count": 77,
   "id": "8ae28e91",
   "metadata": {},
   "outputs": [
    {
     "data": {
      "text/plain": [
       "22"
      ]
     },
     "execution_count": 77,
     "metadata": {},
     "output_type": "execute_result"
    }
   ],
   "source": [
    "len(lines2[0])"
   ]
  },
  {
   "cell_type": "code",
   "execution_count": 78,
   "id": "d6bf9dc7",
   "metadata": {},
   "outputs": [
    {
     "data": {
      "text/plain": [
       "48"
      ]
     },
     "execution_count": 78,
     "metadata": {},
     "output_type": "execute_result"
    }
   ],
   "source": [
    "len(lines2[-2])"
   ]
  },
  {
   "cell_type": "code",
   "execution_count": 79,
   "id": "8eebefc1",
   "metadata": {},
   "outputs": [
    {
     "data": {
      "text/plain": [
       "'Winning ways at Tesco\\nBookies sometimes offer odds for those who want to \" bet without the favourite \" - a wager on who will come second to an obvious winner .\\nA gamble on Tesco \\'s rivals , judging from yesterday \\'s figures on current trading , is even less certain .\\nNot only is Tesco ahead , its tactics are probably biting into the market share of the other runners .\\nIn the first five weeks of its financial year ( since February 23 ) , like-for-like sales grew at 4 per cent .\\nThe latest British Retail Consortium figures indicate overall retail sales fell 1.6 per cent in March , with sales of food ( Tesco \\'s strongpoint ) slowing .\\nEven if Tesco \\'s non-food offering comes under pressure , it has greater flexibility than specialist retailers to tailor its range , and more firepower than other supermarkets to adjust its food promotions to demand .\\nThe shares trade at a multiple of 15 times 2008-09 forecast earnings .\\nThat \\'s an attractive price for the favourite .\\nandrew.hill@ft.com To comment , visit www.ft.com / lombard\\n'"
      ]
     },
     "execution_count": 79,
     "metadata": {},
     "output_type": "execute_result"
    }
   ],
   "source": [
    "lines21\n"
   ]
  },
  {
   "cell_type": "code",
   "execution_count": 80,
   "id": "b96c99f9",
   "metadata": {},
   "outputs": [
    {
     "data": {
      "text/plain": [
       "'i'"
      ]
     },
     "execution_count": 80,
     "metadata": {},
     "output_type": "execute_result"
    }
   ],
   "source": [
    "lines21[1]"
   ]
  },
  {
   "cell_type": "code",
   "execution_count": 81,
   "id": "c3ced94b",
   "metadata": {},
   "outputs": [
    {
     "data": {
      "text/plain": [
       "'Winning ways at Tesco\\n'"
      ]
     },
     "execution_count": 81,
     "metadata": {},
     "output_type": "execute_result"
    }
   ],
   "source": [
    "lines21[0:22]"
   ]
  },
  {
   "cell_type": "code",
   "execution_count": 82,
   "id": "01769a17",
   "metadata": {},
   "outputs": [
    {
     "data": {
      "text/plain": [
       "['Winning ways at Tesco\\n',\n",
       " 'Bookies sometimes offer odds for those who want to \" bet without the favourite \" - a wager on who will come second to an obvious winner .\\n',\n",
       " \"A gamble on Tesco 's rivals , judging from yesterday 's figures on current trading , is even less certain .\\n\",\n",
       " 'Not only is Tesco ahead , its tactics are probably biting into the market share of the other runners .\\n',\n",
       " 'In the first five weeks of its financial year ( since February 23 ) , like-for-like sales grew at 4 per cent .\\n',\n",
       " \"The latest British Retail Consortium figures indicate overall retail sales fell 1.6 per cent in March , with sales of food ( Tesco 's strongpoint ) slowing .\\n\",\n",
       " \"Even if Tesco 's non-food offering comes under pressure , it has greater flexibility than specialist retailers to tailor its range , and more firepower than other supermarkets to adjust its food promotions to demand .\\n\",\n",
       " 'The shares trade at a multiple of 15 times 2008-09 forecast earnings .\\n',\n",
       " \"That 's an attractive price for the favourite .\\n\",\n",
       " 'andrew.hill@ft.com To comment , visit www.ft.com / lombard\\n']"
      ]
     },
     "execution_count": 82,
     "metadata": {},
     "output_type": "execute_result"
    }
   ],
   "source": [
    "lines2"
   ]
  },
  {
   "cell_type": "code",
   "execution_count": 83,
   "id": "b26ccbf7",
   "metadata": {},
   "outputs": [
    {
     "data": {
      "text/plain": [
       "'Winning ways at Tesco\\n'"
      ]
     },
     "execution_count": 83,
     "metadata": {},
     "output_type": "execute_result"
    }
   ],
   "source": [
    "lines2[0]"
   ]
  },
  {
   "cell_type": "code",
   "execution_count": 84,
   "id": "32297cc5",
   "metadata": {},
   "outputs": [
    {
     "name": "stdout",
     "output_type": "stream",
     "text": [
      "Winning ways at Tesco\n",
      "\n"
     ]
    }
   ],
   "source": [
    "print(lines2[0])"
   ]
  },
  {
   "cell_type": "code",
   "execution_count": 87,
   "id": "ba833966",
   "metadata": {},
   "outputs": [
    {
     "data": {
      "text/plain": [
       "' '"
      ]
     },
     "execution_count": 87,
     "metadata": {},
     "output_type": "execute_result"
    }
   ],
   "source": [
    "lines21[285]"
   ]
  },
  {
   "cell_type": "code",
   "execution_count": 2,
   "id": "e11b77c3",
   "metadata": {},
   "outputs": [
    {
     "name": "stdout",
     "output_type": "stream",
     "text": [
      "0.5795713634290925\n"
     ]
    }
   ],
   "source": [
    "s=0\n",
    "etlist = []\n",
    "with open(\"pointer5.txt\",\"w\") as fil3:\n",
    "    with open(\"sent5.txt\",\"w\") as fil4:\n",
    "        with open(\"tuple.txt\",\"r\") as fil1:\n",
    "            with open(\"sent.txt\",\"r\") as fil2:\n",
    "                f1 = fil1.readlines()\n",
    "                f2 = fil2.readlines()\n",
    "                #unu=0\n",
    "                for i in range(len(f1)):\n",
    "                    events = f1[i].split('|')\n",
    "#                     p = 1\n",
    "#                     for j in range(len(events)):\n",
    "#                         event = events[j].split(';')\n",
    "#                         com = event[2].strip()\n",
    "#                         #print(com)\n",
    "#                         #print(f2[i])\n",
    "#                         if com not in f2[i]:\n",
    "#                             p=0\n",
    "                            \n",
    "#                             break\n",
    "#                     #print(f2[i])\n",
    "#                     if p == 0:\n",
    "#                         f2[i]='unused1 '+f2[i]\n",
    "                    f2[i]='unused1 '+f2[i]\n",
    "                        #unu = unu+1\n",
    "                    #print(f2[i])   \n",
    "                    #print(events)\n",
    "                    tup1=[]\n",
    "                    for j in range(len(events)):\n",
    "                        event = events[j].split(';')\n",
    "                        et = event[0].strip()\n",
    "                        if (et) not in etlist:\n",
    "                            etlist.append(et)\n",
    "                        es = event[1].split()\n",
    "                        com = event[2].strip()\n",
    "                        sent = f2[i].split()\n",
    "                        l = len(es)\n",
    "                        tup=[]\n",
    "                        for k in range(len(sent)):\n",
    "                            #if j+l\n",
    "                            #print(sent)\n",
    "                            #print(es)\n",
    "                            if (sent[k]==es[0] and sent[k+l-1]==es[l-1]) or k+l==len(sent):\n",
    "                                #print(event)\n",
    "                                #print(sent)\n",
    "                                tup=[et]\n",
    "                                tup.append(' '+str(k)+' '+str(k+l-1))\n",
    "                                #fil3.writelines(tup)\n",
    "                                #fil3.write('\\n')\n",
    "                                break\n",
    "#                         tup.append(';')\n",
    "#                         com = f1[i].split(';')[2].strip()\n",
    "#                         if('|' in com):\n",
    "#                             com = com.split('|')[0].strip()\n",
    "                        #print(com)\n",
    "                        #print(f2[i])\n",
    "                        if com in f2[i]:\n",
    "                            #print(\"hello\")\n",
    "                            com = com.split()\n",
    "                            #print(com)\n",
    "                            #print(sent)\n",
    "                            l = len(com)\n",
    "                            for k in range(len(sent)):\n",
    "                                #if j+l\n",
    "                                if (sent[k]==com[0] and sent[k+l-1]==com[l-1]) or k+l==len(sent):\n",
    "                                    #print(event)\n",
    "                                    #print(sent)\n",
    "                                    tup.append(' '+str(k)+' '+str(k+l-1))\n",
    "#                                     tup.append(str(j))\n",
    "#                                     tup.append(',')\n",
    "#                                     tup.append(str(j+l-1))\n",
    "                                    tup.append(' | ')\n",
    "#                                     fil3.writelines(tup)\n",
    "#                                     fil3.write('\\n')\n",
    "                                    break\n",
    "                        else:\n",
    "                            #print(com)\n",
    "                            #print(sent)\n",
    "                            s=s+1\n",
    "                            tup.append(' '+'0'+' '+'0')\n",
    "                            tup.append(' | ')\n",
    "#                             fil3.writelines(tup)\n",
    "#                             fil3.write('\\n')\n",
    "                        tup1.extend(tup)\n",
    "                        \n",
    "                    tup1.pop()\n",
    "                    #print(tup1)\n",
    "                    fil3.writelines(tup1)\n",
    "                    fil3.write('\\n')\n",
    "                    fil4.write(f2[i])\n",
    "                    #fil4.write('\\n')\n",
    "print(s/2193)\n",
    "                    \n",
    "                \n",
    "                        \n",
    "                    \n",
    "                    \n",
    "                        \n",
    "                \n",
    "        "
   ]
  },
  {
   "cell_type": "code",
   "execution_count": 30,
   "id": "f3387324",
   "metadata": {},
   "outputs": [],
   "source": [
    "with open('event_names.txt','w') as f:\n",
    "    for e in etlist:\n",
    "        f.write(e+'\\n')"
   ]
  },
  {
   "cell_type": "code",
   "execution_count": null,
   "id": "145c29ff",
   "metadata": {},
   "outputs": [],
   "source": []
  }
 ],
 "metadata": {
  "kernelspec": {
   "display_name": "Python 3",
   "language": "python",
   "name": "python3"
  },
  "language_info": {
   "codemirror_mode": {
    "name": "ipython",
    "version": 3
   },
   "file_extension": ".py",
   "mimetype": "text/x-python",
   "name": "python",
   "nbconvert_exporter": "python",
   "pygments_lexer": "ipython3",
   "version": "3.8.8"
  }
 },
 "nbformat": 4,
 "nbformat_minor": 5
}
